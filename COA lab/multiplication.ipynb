{
 "cells": [
  {
   "cell_type": "code",
   "execution_count": 1,
   "id": "bc6efb3a",
   "metadata": {},
   "outputs": [],
   "source": [
    "def add(a, b):\n",
    "    n = max(len(a), len(b))\n",
    "    a = a.zfill(n)\n",
    "    b = b.zfill(n)\n",
    "\n",
    "    carry = 0\n",
    "    result = ''\n",
    "\n",
    "    for i in range(n - 1, -1, -1):\n",
    "        sum = int(a[i]) + int(b[i]) + carry\n",
    "\n",
    "        if sum == 2:\n",
    "            carry = 1\n",
    "            result = '0' + result\n",
    "        elif sum == 3:\n",
    "            carry = 1\n",
    "            result = '1' + result\n",
    "        else:\n",
    "            carry = 0\n",
    "            result = str(sum) + result\n",
    "\n",
    "    if carry == 1:\n",
    "        result = '1' + result\n",
    "\n",
    "    return result\n"
   ]
  },
  {
   "cell_type": "code",
   "execution_count": 2,
   "id": "f05e2262",
   "metadata": {},
   "outputs": [
    {
     "name": "stdout",
     "output_type": "stream",
     "text": [
      "Enter the first number: 1010\n",
      "Enter the second number: 100\n",
      "The product is: 0101000\n"
     ]
    }
   ],
   "source": [
    "\n",
    "def mul(a, b):\n",
    "    n = len(a)\n",
    "    m = len(b)\n",
    "\n",
    "    product = '0' * (n + m)\n",
    "\n",
    "    for i in range(m-1, -1, -1):\n",
    "        if b[i] == '1':\n",
    "            partial_product = a + '0' *(m-i-1)\n",
    "            product = add(product, partial_product)\n",
    "\n",
    "    return product\n",
    "\n",
    "a = input(\"Enter the first number: \")\n",
    "b = input(\"Enter the second number: \")\n",
    "\n",
    "product = mul(a, b)\n",
    "print(\"The product is:\", product)\n",
    "\n"
   ]
  },
  {
   "cell_type": "code",
   "execution_count": null,
   "id": "8c4a7691",
   "metadata": {},
   "outputs": [],
   "source": []
  }
 ],
 "metadata": {
  "kernelspec": {
   "display_name": "Python 3 (ipykernel)",
   "language": "python",
   "name": "python3"
  },
  "language_info": {
   "codemirror_mode": {
    "name": "ipython",
    "version": 3
   },
   "file_extension": ".py",
   "mimetype": "text/x-python",
   "name": "python",
   "nbconvert_exporter": "python",
   "pygments_lexer": "ipython3",
   "version": "3.11.4"
  }
 },
 "nbformat": 4,
 "nbformat_minor": 5
}
